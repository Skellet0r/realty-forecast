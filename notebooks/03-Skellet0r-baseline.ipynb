{
 "cells": [
  {
   "cell_type": "markdown",
   "metadata": {},
   "source": [
    "# Baseline Models"
   ]
  },
  {
   "cell_type": "markdown",
   "metadata": {},
   "source": [
    "We've got our data for the 8 counties in Colorado, now we have to find the 5 best zip codes to recommend to our client. Before we use any of our more advanced modeling, we'll start off with some basic modeling, namely a persistence model and assess how it does. This will be our baseline model, moving forward if any of our models fail to meet the standards of this one we'll have to reassess them."
   ]
  },
  {
   "cell_type": "markdown",
   "metadata": {},
   "source": [
    "Along with doing our baseline models, we'll want to get an overview of the zip codes, inspecting for any non-stationarity, and then inducing stationarity if we can."
   ]
  },
  {
   "cell_type": "code",
   "execution_count": 1,
   "metadata": {
    "ExecuteTime": {
     "end_time": "2020-09-23T13:39:02.611434Z",
     "start_time": "2020-09-23T13:39:01.539824Z"
    }
   },
   "outputs": [],
   "source": [
    "# import libaries\n",
    "from warnings import filterwarnings\n",
    "filterwarnings(\"ignore\")\n",
    "\n",
    "import pandas as pd\n",
    "import numpy as np\n",
    "from scipy import stats\n",
    "\n",
    "import statsmodels.api as sm\n",
    "from sklearn import metrics\n",
    "from sklearn.linear_model import LinearRegression\n",
    "from sklearn.model_selection import TimeSeriesSplit\n",
    "\n",
    "import matplotlib.pyplot as plt\n",
    "import seaborn as sns\n",
    "\n",
    "import ipywidgets\n",
    "from functools import partial\n",
    "\n",
    "%matplotlib inline\n",
    "sns.set(font_scale=1.2)"
   ]
  },
  {
   "cell_type": "code",
   "execution_count": 2,
   "metadata": {
    "ExecuteTime": {
     "end_time": "2020-09-23T13:39:02.645002Z",
     "start_time": "2020-09-23T13:39:02.612755Z"
    }
   },
   "outputs": [
    {
     "data": {
      "text/html": [
       "<div>\n",
       "<style scoped>\n",
       "    .dataframe tbody tr th:only-of-type {\n",
       "        vertical-align: middle;\n",
       "    }\n",
       "\n",
       "    .dataframe tbody tr th {\n",
       "        vertical-align: top;\n",
       "    }\n",
       "\n",
       "    .dataframe thead th {\n",
       "        text-align: right;\n",
       "    }\n",
       "</style>\n",
       "<table border=\"1\" class=\"dataframe\">\n",
       "  <thead>\n",
       "    <tr style=\"text-align: right;\">\n",
       "      <th></th>\n",
       "      <th>RegionID</th>\n",
       "      <th>RegionName</th>\n",
       "      <th>City</th>\n",
       "      <th>State</th>\n",
       "      <th>CountyName</th>\n",
       "      <th>SizeRank</th>\n",
       "      <th>value</th>\n",
       "    </tr>\n",
       "    <tr>\n",
       "      <th>Date</th>\n",
       "      <th></th>\n",
       "      <th></th>\n",
       "      <th></th>\n",
       "      <th></th>\n",
       "      <th></th>\n",
       "      <th></th>\n",
       "      <th></th>\n",
       "    </tr>\n",
       "  </thead>\n",
       "  <tbody>\n",
       "    <tr>\n",
       "      <th>1996-04-01</th>\n",
       "      <td>93295</td>\n",
       "      <td>80219</td>\n",
       "      <td>Denver</td>\n",
       "      <td>CO</td>\n",
       "      <td>Denver</td>\n",
       "      <td>611</td>\n",
       "      <td>83700.0</td>\n",
       "    </tr>\n",
       "    <tr>\n",
       "      <th>1996-04-01</th>\n",
       "      <td>93252</td>\n",
       "      <td>80123</td>\n",
       "      <td>Denver</td>\n",
       "      <td>CO</td>\n",
       "      <td>Denver</td>\n",
       "      <td>753</td>\n",
       "      <td>163900.0</td>\n",
       "    </tr>\n",
       "    <tr>\n",
       "      <th>1996-04-01</th>\n",
       "      <td>93305</td>\n",
       "      <td>80229</td>\n",
       "      <td>Thornton</td>\n",
       "      <td>CO</td>\n",
       "      <td>Adams</td>\n",
       "      <td>943</td>\n",
       "      <td>93800.0</td>\n",
       "    </tr>\n",
       "    <tr>\n",
       "      <th>1996-04-01</th>\n",
       "      <td>93309</td>\n",
       "      <td>80233</td>\n",
       "      <td>Northglenn</td>\n",
       "      <td>CO</td>\n",
       "      <td>Adams</td>\n",
       "      <td>1106</td>\n",
       "      <td>110100.0</td>\n",
       "    </tr>\n",
       "    <tr>\n",
       "      <th>1996-04-01</th>\n",
       "      <td>93296</td>\n",
       "      <td>80220</td>\n",
       "      <td>Denver</td>\n",
       "      <td>CO</td>\n",
       "      <td>Denver</td>\n",
       "      <td>1249</td>\n",
       "      <td>138500.0</td>\n",
       "    </tr>\n",
       "  </tbody>\n",
       "</table>\n",
       "</div>"
      ],
      "text/plain": [
       "            RegionID  RegionName        City State CountyName  SizeRank  \\\n",
       "Date                                                                      \n",
       "1996-04-01     93295       80219      Denver    CO     Denver       611   \n",
       "1996-04-01     93252       80123      Denver    CO     Denver       753   \n",
       "1996-04-01     93305       80229    Thornton    CO      Adams       943   \n",
       "1996-04-01     93309       80233  Northglenn    CO      Adams      1106   \n",
       "1996-04-01     93296       80220      Denver    CO     Denver      1249   \n",
       "\n",
       "               value  \n",
       "Date                  \n",
       "1996-04-01   83700.0  \n",
       "1996-04-01  163900.0  \n",
       "1996-04-01   93800.0  \n",
       "1996-04-01  110100.0  \n",
       "1996-04-01  138500.0  "
      ]
     },
     "execution_count": 2,
     "metadata": {},
     "output_type": "execute_result"
    }
   ],
   "source": [
    "# load data\n",
    "df = pd.read_csv(\"../data/interim/co-data.csv\", index_col=\"Date\", parse_dates=True)\n",
    "df.head()"
   ]
  },
  {
   "cell_type": "code",
   "execution_count": 3,
   "metadata": {
    "ExecuteTime": {
     "end_time": "2020-09-23T13:39:02.663249Z",
     "start_time": "2020-09-23T13:39:02.647045Z"
    }
   },
   "outputs": [
    {
     "data": {
      "text/html": [
       "<div>\n",
       "<style scoped>\n",
       "    .dataframe tbody tr th:only-of-type {\n",
       "        vertical-align: middle;\n",
       "    }\n",
       "\n",
       "    .dataframe tbody tr th {\n",
       "        vertical-align: top;\n",
       "    }\n",
       "\n",
       "    .dataframe thead th {\n",
       "        text-align: right;\n",
       "    }\n",
       "</style>\n",
       "<table border=\"1\" class=\"dataframe\">\n",
       "  <thead>\n",
       "    <tr style=\"text-align: right;\">\n",
       "      <th></th>\n",
       "      <th>RegionID</th>\n",
       "      <th>RegionName</th>\n",
       "      <th>City</th>\n",
       "      <th>State</th>\n",
       "      <th>CountyName</th>\n",
       "      <th>SizeRank</th>\n",
       "      <th>value</th>\n",
       "    </tr>\n",
       "    <tr>\n",
       "      <th>Date</th>\n",
       "      <th></th>\n",
       "      <th></th>\n",
       "      <th></th>\n",
       "      <th></th>\n",
       "      <th></th>\n",
       "      <th></th>\n",
       "      <th></th>\n",
       "    </tr>\n",
       "  </thead>\n",
       "  <tbody>\n",
       "    <tr>\n",
       "      <th>1996-04-01</th>\n",
       "      <td>93295</td>\n",
       "      <td>80219</td>\n",
       "      <td>Denver</td>\n",
       "      <td>CO</td>\n",
       "      <td>Denver</td>\n",
       "      <td>611</td>\n",
       "      <td>83700.0</td>\n",
       "    </tr>\n",
       "    <tr>\n",
       "      <th>1996-05-01</th>\n",
       "      <td>93295</td>\n",
       "      <td>80219</td>\n",
       "      <td>Denver</td>\n",
       "      <td>CO</td>\n",
       "      <td>Denver</td>\n",
       "      <td>611</td>\n",
       "      <td>84000.0</td>\n",
       "    </tr>\n",
       "    <tr>\n",
       "      <th>1996-06-01</th>\n",
       "      <td>93295</td>\n",
       "      <td>80219</td>\n",
       "      <td>Denver</td>\n",
       "      <td>CO</td>\n",
       "      <td>Denver</td>\n",
       "      <td>611</td>\n",
       "      <td>84300.0</td>\n",
       "    </tr>\n",
       "    <tr>\n",
       "      <th>1996-07-01</th>\n",
       "      <td>93295</td>\n",
       "      <td>80219</td>\n",
       "      <td>Denver</td>\n",
       "      <td>CO</td>\n",
       "      <td>Denver</td>\n",
       "      <td>611</td>\n",
       "      <td>84700.0</td>\n",
       "    </tr>\n",
       "    <tr>\n",
       "      <th>1996-08-01</th>\n",
       "      <td>93295</td>\n",
       "      <td>80219</td>\n",
       "      <td>Denver</td>\n",
       "      <td>CO</td>\n",
       "      <td>Denver</td>\n",
       "      <td>611</td>\n",
       "      <td>85100.0</td>\n",
       "    </tr>\n",
       "    <tr>\n",
       "      <th>...</th>\n",
       "      <td>...</td>\n",
       "      <td>...</td>\n",
       "      <td>...</td>\n",
       "      <td>...</td>\n",
       "      <td>...</td>\n",
       "      <td>...</td>\n",
       "      <td>...</td>\n",
       "    </tr>\n",
       "    <tr>\n",
       "      <th>2017-12-01</th>\n",
       "      <td>93295</td>\n",
       "      <td>80219</td>\n",
       "      <td>Denver</td>\n",
       "      <td>CO</td>\n",
       "      <td>Denver</td>\n",
       "      <td>611</td>\n",
       "      <td>298100.0</td>\n",
       "    </tr>\n",
       "    <tr>\n",
       "      <th>2018-01-01</th>\n",
       "      <td>93295</td>\n",
       "      <td>80219</td>\n",
       "      <td>Denver</td>\n",
       "      <td>CO</td>\n",
       "      <td>Denver</td>\n",
       "      <td>611</td>\n",
       "      <td>302600.0</td>\n",
       "    </tr>\n",
       "    <tr>\n",
       "      <th>2018-02-01</th>\n",
       "      <td>93295</td>\n",
       "      <td>80219</td>\n",
       "      <td>Denver</td>\n",
       "      <td>CO</td>\n",
       "      <td>Denver</td>\n",
       "      <td>611</td>\n",
       "      <td>306900.0</td>\n",
       "    </tr>\n",
       "    <tr>\n",
       "      <th>2018-03-01</th>\n",
       "      <td>93295</td>\n",
       "      <td>80219</td>\n",
       "      <td>Denver</td>\n",
       "      <td>CO</td>\n",
       "      <td>Denver</td>\n",
       "      <td>611</td>\n",
       "      <td>311900.0</td>\n",
       "    </tr>\n",
       "    <tr>\n",
       "      <th>2018-04-01</th>\n",
       "      <td>93295</td>\n",
       "      <td>80219</td>\n",
       "      <td>Denver</td>\n",
       "      <td>CO</td>\n",
       "      <td>Denver</td>\n",
       "      <td>611</td>\n",
       "      <td>315700.0</td>\n",
       "    </tr>\n",
       "  </tbody>\n",
       "</table>\n",
       "<p>265 rows × 7 columns</p>\n",
       "</div>"
      ],
      "text/plain": [
       "            RegionID  RegionName    City State CountyName  SizeRank     value\n",
       "Date                                                                         \n",
       "1996-04-01     93295       80219  Denver    CO     Denver       611   83700.0\n",
       "1996-05-01     93295       80219  Denver    CO     Denver       611   84000.0\n",
       "1996-06-01     93295       80219  Denver    CO     Denver       611   84300.0\n",
       "1996-07-01     93295       80219  Denver    CO     Denver       611   84700.0\n",
       "1996-08-01     93295       80219  Denver    CO     Denver       611   85100.0\n",
       "...              ...         ...     ...   ...        ...       ...       ...\n",
       "2017-12-01     93295       80219  Denver    CO     Denver       611  298100.0\n",
       "2018-01-01     93295       80219  Denver    CO     Denver       611  302600.0\n",
       "2018-02-01     93295       80219  Denver    CO     Denver       611  306900.0\n",
       "2018-03-01     93295       80219  Denver    CO     Denver       611  311900.0\n",
       "2018-04-01     93295       80219  Denver    CO     Denver       611  315700.0\n",
       "\n",
       "[265 rows x 7 columns]"
      ]
     },
     "execution_count": 3,
     "metadata": {},
     "output_type": "execute_result"
    }
   ],
   "source": [
    "df[df.RegionName == 80219]"
   ]
  },
  {
   "cell_type": "code",
   "execution_count": 4,
   "metadata": {
    "ExecuteTime": {
     "end_time": "2020-09-23T13:39:03.153406Z",
     "start_time": "2020-09-23T13:39:02.665634Z"
    }
   },
   "outputs": [
    {
     "data": {
      "application/vnd.jupyter.widget-view+json": {
       "model_id": "64cbb96636b54d4696bd6638558f98e3",
       "version_major": 2,
       "version_minor": 0
      },
      "text/plain": [
       "interactive(children=(Dropdown(description='zipcode', options=(80021, 80022, 80030, 80031, 80102, 80123, 80136…"
      ]
     },
     "metadata": {},
     "output_type": "display_data"
    }
   ],
   "source": [
    "# plot market trend for each zip code\n",
    "def plot_zip(zipcode):\n",
    "    zip_series = df.loc[df.RegionName == zipcode, \"value\"]\n",
    "    plt.figure(figsize=(16, 9))\n",
    "    zip_series.plot(title=f\"{zipcode} Historic Median Home Value\", label=\"Observations\")\n",
    "    zip_series.rolling(3).mean().plot(label=\"Quarterly Rolling Mean\")\n",
    "    zip_series.rolling(12).mean().plot(label=\"Annual Rolling Mean\")\n",
    "    zip_series.rolling(12).std().plot(label=\"Annual Rolling STD\")\n",
    "    \n",
    "    plt.legend()\n",
    "    \n",
    "    adf = sm.tsa.stattools.adfuller(zip_series)\n",
    "    print(f\"ADF Test Stat: {adf[0]:.3f}\")\n",
    "    print(f\"ADF P-Value: {adf[1]:.2%}\")\n",
    "    print(*[f\"|{k}: {v:.3f}|\" for k, v in adf[4].items()])\n",
    "    \n",
    "    \n",
    "\n",
    "selection = ipywidgets.widgets.Dropdown(options=df.RegionName.sort_values().unique())\n",
    "i = ipywidgets.interact(plot_zip, zipcode=selection)\n",
    "plt.show()"
   ]
  },
  {
   "cell_type": "code",
   "execution_count": 5,
   "metadata": {
    "ExecuteTime": {
     "end_time": "2020-09-23T13:39:03.621625Z",
     "start_time": "2020-09-23T13:39:03.154753Z"
    },
    "scrolled": true
   },
   "outputs": [
    {
     "data": {
      "text/plain": [
       "Series([], Name: 1, dtype: object)"
      ]
     },
     "execution_count": 5,
     "metadata": {},
     "output_type": "execute_result"
    }
   ],
   "source": [
    "# output stationary zip codes\n",
    "adf_scores = df.pivot(columns=\"RegionName\", values=\"value\").apply(sm.tsa.stattools.adfuller).transpose()[1]\n",
    "adf_scores[adf_scores < .05]"
   ]
  },
  {
   "cell_type": "markdown",
   "metadata": {},
   "source": [
    "## Inducing Stationarity"
   ]
  },
  {
   "cell_type": "markdown",
   "metadata": {},
   "source": [
    "As expected all of our zip codes are non-stationary, looking through the zip codes we can see a positive trend for a majority of them. Maybe taking the first difference will make a difference (ba dum tsh)."
   ]
  },
  {
   "cell_type": "markdown",
   "metadata": {
    "heading_collapsed": true
   },
   "source": [
    "### First Difference"
   ]
  },
  {
   "cell_type": "code",
   "execution_count": 6,
   "metadata": {
    "ExecuteTime": {
     "end_time": "2020-09-23T13:39:03.965927Z",
     "start_time": "2020-09-23T13:39:03.622910Z"
    },
    "hidden": true
   },
   "outputs": [
    {
     "data": {
      "application/vnd.jupyter.widget-view+json": {
       "model_id": "99b0276bd9a8410c8468c4488e80b35a",
       "version_major": 2,
       "version_minor": 0
      },
      "text/plain": [
       "interactive(children=(Dropdown(description='zipcode', options=(80021, 80022, 80030, 80031, 80102, 80123, 80136…"
      ]
     },
     "metadata": {},
     "output_type": "display_data"
    }
   ],
   "source": [
    "# plot market trend for each zip code after the first difference\n",
    "def plot_zip(zipcode):\n",
    "    zip_series = df.loc[df.RegionName == zipcode, \"value\"].diff().dropna()\n",
    "    plt.figure(figsize=(16, 9))\n",
    "    zip_series.plot(title=f\"{zipcode} Historic Median Home Value\", label=\"Observations\")\n",
    "    zip_series.rolling(12).mean().plot(label=\"Annual Rolling Mean\")\n",
    "    zip_series.rolling(12).std().plot(label=\"Annual Rolling STD\")\n",
    "    \n",
    "    plt.legend()\n",
    "    \n",
    "    adf = sm.tsa.stattools.adfuller(zip_series)\n",
    "    print(f\"ADF Test Stat: {adf[0]:.3f}\")\n",
    "    print(f\"ADF P-Value: {adf[1]:.2%}\")\n",
    "    print(*[f\"|{k}: {v:.3f}|\" for k, v in adf[4].items()])\n",
    "    print(f\"Level: {zip_series.mean():.4f}\")\n",
    "    \n",
    "    \n",
    "\n",
    "selection = ipywidgets.widgets.Dropdown(options=df.RegionName.sort_values().unique())\n",
    "i = ipywidgets.interact(plot_zip, zipcode=selection)\n",
    "plt.show()"
   ]
  },
  {
   "cell_type": "markdown",
   "metadata": {
    "hidden": true
   },
   "source": [
    "Looking through the visuals of our differenced time series, the mean still appears to vary consistently and not stay constant. We are also left with a very large amount of variation in each time series standard deviation through time.\n",
    "\n",
    "This does look more like a random walk, maybe taking a second difference will help."
   ]
  },
  {
   "cell_type": "markdown",
   "metadata": {},
   "source": [
    "### Second Difference"
   ]
  },
  {
   "cell_type": "code",
   "execution_count": 7,
   "metadata": {
    "ExecuteTime": {
     "end_time": "2020-09-23T13:39:04.317780Z",
     "start_time": "2020-09-23T13:39:03.967742Z"
    },
    "scrolled": false
   },
   "outputs": [
    {
     "data": {
      "application/vnd.jupyter.widget-view+json": {
       "model_id": "f93ac2a2feac4daeb7d56233f2953902",
       "version_major": 2,
       "version_minor": 0
      },
      "text/plain": [
       "interactive(children=(Dropdown(description='zipcode', options=(80021, 80022, 80030, 80031, 80102, 80123, 80136…"
      ]
     },
     "metadata": {},
     "output_type": "display_data"
    }
   ],
   "source": [
    "# plot market trend for each zip code after the first difference\n",
    "def plot_zip(zipcode):\n",
    "    zip_series = df.loc[df.RegionName == zipcode, \"value\"].diff().diff().dropna()\n",
    "    plt.figure(figsize=(16, 9))\n",
    "    zip_series.plot(title=f\"{zipcode} Historic Median Home Value\", label=\"Observations\")\n",
    "    zip_series.rolling(12).mean().plot(label=\"Annual Rolling Mean\")\n",
    "    zip_series.rolling(12).std().plot(label=\"Annual Rolling STD\")\n",
    "    \n",
    "    plt.legend()\n",
    "    \n",
    "    adf = sm.tsa.stattools.adfuller(zip_series)\n",
    "    print(f\"ADF Test Stat: {adf[0]:.3f}\")\n",
    "    print(f\"ADF P-Value: {adf[1]:.2%}\")\n",
    "    print(*[f\"|{k}: {v:.3f}|\" for k, v in adf[4].items()])\n",
    "    print(f\"Level: {zip_series.mean():.4f}\")\n",
    "    \n",
    "    \n",
    "\n",
    "selection = ipywidgets.widgets.Dropdown(options=df.RegionName.sort_values().unique())\n",
    "i = ipywidgets.interact(plot_zip, zipcode=selection)\n",
    "plt.show()"
   ]
  },
  {
   "cell_type": "code",
   "execution_count": 8,
   "metadata": {
    "ExecuteTime": {
     "end_time": "2020-09-23T13:39:04.773964Z",
     "start_time": "2020-09-23T13:39:04.319624Z"
    }
   },
   "outputs": [
    {
     "data": {
      "text/plain": [
       "RegionName\n",
       "80021    0.000629569\n",
       "80022    6.44262e-07\n",
       "80030    1.32108e-06\n",
       "80031    1.57969e-08\n",
       "80102    8.84388e-11\n",
       "            ...     \n",
       "81211    0.000214877\n",
       "81224    1.71589e-07\n",
       "81225    8.04766e-07\n",
       "81230    1.30421e-06\n",
       "81236    5.23966e-09\n",
       "Name: 1, Length: 61, dtype: object"
      ]
     },
     "execution_count": 8,
     "metadata": {},
     "output_type": "execute_result"
    }
   ],
   "source": [
    "# output stationary zip codes\n",
    "adf_scores2 = df.pivot(columns=\"RegionName\", values=\"value\").diff().diff().dropna().apply(sm.tsa.stattools.adfuller).transpose()[1]\n",
    "adf_scores2[adf_scores2 < .05]\n",
    "adf_scores2"
   ]
  },
  {
   "cell_type": "markdown",
   "metadata": {},
   "source": [
    "All 61 of our series have rejected the null hypothesis with a 95% confidence. These series have become stationary. \n",
    "\n",
    "The only problem is we may have over differenced. One noticeable thing about these 2nd order differenced series, is that their variation becomes extreme towards the end of the series. Maybe we should first try a power transformation and then identify if it helps, we'll use the boxcox transformation."
   ]
  },
  {
   "cell_type": "markdown",
   "metadata": {
    "heading_collapsed": true
   },
   "source": [
    "### Power Transformation"
   ]
  },
  {
   "cell_type": "code",
   "execution_count": 9,
   "metadata": {
    "ExecuteTime": {
     "end_time": "2020-09-23T13:39:05.190082Z",
     "start_time": "2020-09-23T13:39:04.775505Z"
    },
    "hidden": true
   },
   "outputs": [
    {
     "data": {
      "application/vnd.jupyter.widget-view+json": {
       "model_id": "9612ef71741e4c1ca23a916a25f9a1d0",
       "version_major": 2,
       "version_minor": 0
      },
      "text/plain": [
       "interactive(children=(Dropdown(description='zipcode', options=(80021, 80022, 80030, 80031, 80102, 80123, 80136…"
      ]
     },
     "metadata": {},
     "output_type": "display_data"
    }
   ],
   "source": [
    "# plot market trend for each zip code\n",
    "def plot_zip(zipcode):\n",
    "    trans, lmbda = stats.boxcox(df.loc[df.RegionName == zipcode, \"value\"])\n",
    "    zip_series = pd.Series(trans)\n",
    "    \n",
    "    plt.figure(figsize=(16, 9))\n",
    "    plt.subplot(3, 1, (1, 2))\n",
    "    zip_series.plot(title=f\"{zipcode} Historic Median Home Value\", label=\"Observations\")\n",
    "    zip_series.rolling(12).mean().plot(label=\"Annual Rolling Mean\")\n",
    "    plt.legend()\n",
    "    plt.subplot(3, 1, 3)\n",
    "    zip_series.rolling(12).std().plot(label=\"Annual Rolling STD\")\n",
    "    \n",
    "    plt.legend()\n",
    "    \n",
    "    adf = sm.tsa.stattools.adfuller(zip_series)\n",
    "    print(f\"ADF Test Stat: {adf[0]:.3f}\")\n",
    "    print(f\"ADF P-Value: {adf[1]:.2%}\")\n",
    "    print(*[f\"|{k}: {v:.3f}|\" for k, v in adf[4].items()])\n",
    "    print(f\"Boxcox Lambda: {lmbda:g}\")\n",
    "    \n",
    "    \n",
    "\n",
    "selection = ipywidgets.widgets.Dropdown(options=df.RegionName.sort_values().unique())\n",
    "i = ipywidgets.interact(plot_zip, zipcode=selection)\n",
    "plt.show()"
   ]
  },
  {
   "cell_type": "markdown",
   "metadata": {
    "hidden": true
   },
   "source": [
    "Our power transforms aren't any more beneficial, since there isn't much noise in the data to begin with. Maybe if we smooth our data, it will help."
   ]
  },
  {
   "cell_type": "markdown",
   "metadata": {
    "heading_collapsed": true
   },
   "source": [
    "### Resampling + First Difference"
   ]
  },
  {
   "cell_type": "code",
   "execution_count": 10,
   "metadata": {
    "ExecuteTime": {
     "end_time": "2020-09-23T13:39:05.513309Z",
     "start_time": "2020-09-23T13:39:05.191613Z"
    },
    "hidden": true,
    "scrolled": false
   },
   "outputs": [
    {
     "data": {
      "application/vnd.jupyter.widget-view+json": {
       "model_id": "ac2937f2e7fa4f2cbed9b8f750291960",
       "version_major": 2,
       "version_minor": 0
      },
      "text/plain": [
       "interactive(children=(Dropdown(description='zipcode', options=(80021, 80022, 80030, 80031, 80102, 80123, 80136…"
      ]
     },
     "metadata": {},
     "output_type": "display_data"
    }
   ],
   "source": [
    "# plot market trend for each zip code after the first difference\n",
    "def plot_zip(zipcode):\n",
    "    zip_series = df.loc[df.RegionName == zipcode, \"value\"].resample(\"Q\").mean().diff().dropna()\n",
    "    plt.figure(figsize=(16, 9))\n",
    "    zip_series.plot(title=f\"{zipcode} Historic Median Home Value\", label=\"Observations\")\n",
    "    zip_series.rolling(12).mean().plot(label=\"Annual Rolling Mean\")\n",
    "    zip_series.rolling(12).std().plot(label=\"Annual Rolling STD\")\n",
    "    \n",
    "    plt.legend()\n",
    "    \n",
    "    adf = sm.tsa.stattools.adfuller(zip_series)\n",
    "    print(f\"ADF Test Stat: {adf[0]:.3f}\")\n",
    "    print(f\"ADF P-Value: {adf[1]:.2%}\")\n",
    "    print(*[f\"|{k}: {v:.3f}|\" for k, v in adf[4].items()])\n",
    "    print(f\"Level: {zip_series.mean():.4f}\")\n",
    "    \n",
    "    \n",
    "\n",
    "selection = ipywidgets.widgets.Dropdown(options=df.RegionName.sort_values().unique())\n",
    "i = ipywidgets.interact(plot_zip, zipcode=selection)\n",
    "plt.show()"
   ]
  },
  {
   "cell_type": "markdown",
   "metadata": {
    "hidden": true
   },
   "source": [
    "The problem seems to have now been exacerbated. We'll continue on from here and go into persistence modeling using just the second order differencing."
   ]
  },
  {
   "cell_type": "markdown",
   "metadata": {},
   "source": [
    "## Persistence Modeling"
   ]
  },
  {
   "cell_type": "markdown",
   "metadata": {},
   "source": [
    "Persistance modeling is simple just return the current value as the prediction for the next one."
   ]
  },
  {
   "cell_type": "code",
   "execution_count": 11,
   "metadata": {
    "ExecuteTime": {
     "end_time": "2020-09-23T13:39:05.517039Z",
     "start_time": "2020-09-23T13:39:05.514541Z"
    }
   },
   "outputs": [],
   "source": [
    "def persist(value):\n",
    "    \"\"\"Return the value\"\"\"\n",
    "    return value"
   ]
  },
  {
   "cell_type": "code",
   "execution_count": 12,
   "metadata": {
    "ExecuteTime": {
     "end_time": "2020-09-23T13:39:05.526189Z",
     "start_time": "2020-09-23T13:39:05.518720Z"
    }
   },
   "outputs": [],
   "source": [
    "def model(series):\n",
    "    \"\"\"Using persistance create a model and return the RMSE score\"\"\"\n",
    "    data = pd.concat([series, series.shift(-1)], axis=1).dropna().values\n",
    "    X, y = data[:, 0], data[:, 1]\n",
    "    size = int(data.shape[0] * .66)\n",
    "    X_train, X_test, y_train, y_test = X[:size], X[size:], y[:size], y[size:]\n",
    "    y_preds = persist(X_test)\n",
    "    \n",
    "    return metrics.mean_squared_error(y_test, y_preds, squared=False)"
   ]
  },
  {
   "cell_type": "code",
   "execution_count": 13,
   "metadata": {
    "ExecuteTime": {
     "end_time": "2020-09-23T13:39:06.108539Z",
     "start_time": "2020-09-23T13:39:05.527841Z"
    }
   },
   "outputs": [
    {
     "data": {
      "image/png": "[encoded data removed]",
      "text/plain": [
       "<Figure size 1152x648 with 2 Axes>"
      ]
     },
     "metadata": {},
     "output_type": "display_data"
    }
   ],
   "source": [
    "# create pivoted data\n",
    "diffed_df = df.pivot(columns=\"RegionName\", values=\"value\").diff().diff().dropna()\n",
    "results = diffed_df.apply(model)\n",
    "plt.subplot(3, 1, (1, 2))\n",
    "results.plot(kind=\"hist\", figsize=(16, 9), title=\"Histogram of Persistance Model Performance\")\n",
    "plt.subplot(3, 1, 3)\n",
    "plt.boxplot(results, vert=False)\n",
    "plt.show()"
   ]
  },
  {
   "cell_type": "code",
   "execution_count": 14,
   "metadata": {
    "ExecuteTime": {
     "end_time": "2020-09-23T13:39:06.117367Z",
     "start_time": "2020-09-23T13:39:06.110158Z"
    }
   },
   "outputs": [
    {
     "data": {
      "text/plain": [
       "count      61.000000\n",
       "mean     1338.534285\n",
       "std      1484.298036\n",
       "min       306.412939\n",
       "25%       736.131027\n",
       "50%       940.094558\n",
       "75%      1338.116421\n",
       "max      9346.187577\n",
       "dtype: float64"
      ]
     },
     "execution_count": 14,
     "metadata": {},
     "output_type": "execute_result"
    }
   ],
   "source": [
    "# output results describe\n",
    "results.describe()"
   ]
  },
  {
   "cell_type": "code",
   "execution_count": 15,
   "metadata": {
    "ExecuteTime": {
     "end_time": "2020-09-23T13:39:06.342389Z",
     "start_time": "2020-09-23T13:39:06.119566Z"
    }
   },
   "outputs": [
    {
     "data": {
      "text/html": [
       "<div>\n",
       "<style scoped>\n",
       "    .dataframe tbody tr th:only-of-type {\n",
       "        vertical-align: middle;\n",
       "    }\n",
       "\n",
       "    .dataframe tbody tr th {\n",
       "        vertical-align: top;\n",
       "    }\n",
       "\n",
       "    .dataframe thead th {\n",
       "        text-align: right;\n",
       "    }\n",
       "</style>\n",
       "<table border=\"1\" class=\"dataframe\">\n",
       "  <thead>\n",
       "    <tr style=\"text-align: right;\">\n",
       "      <th>RegionName</th>\n",
       "      <th>80021</th>\n",
       "      <th>80022</th>\n",
       "      <th>80030</th>\n",
       "      <th>80031</th>\n",
       "      <th>80102</th>\n",
       "      <th>80123</th>\n",
       "      <th>80136</th>\n",
       "      <th>80203</th>\n",
       "      <th>80204</th>\n",
       "      <th>80205</th>\n",
       "      <th>...</th>\n",
       "      <th>80816</th>\n",
       "      <th>80827</th>\n",
       "      <th>80863</th>\n",
       "      <th>81101</th>\n",
       "      <th>81201</th>\n",
       "      <th>81211</th>\n",
       "      <th>81224</th>\n",
       "      <th>81225</th>\n",
       "      <th>81230</th>\n",
       "      <th>81236</th>\n",
       "    </tr>\n",
       "  </thead>\n",
       "  <tbody>\n",
       "    <tr>\n",
       "      <th>count</th>\n",
       "      <td>263.000000</td>\n",
       "      <td>263.000000</td>\n",
       "      <td>263.000000</td>\n",
       "      <td>263.000000</td>\n",
       "      <td>263.000000</td>\n",
       "      <td>263.000000</td>\n",
       "      <td>263.000000</td>\n",
       "      <td>263.000000</td>\n",
       "      <td>263.000000</td>\n",
       "      <td>263.000000</td>\n",
       "      <td>...</td>\n",
       "      <td>263.000000</td>\n",
       "      <td>263.000000</td>\n",
       "      <td>263.000000</td>\n",
       "      <td>263.000000</td>\n",
       "      <td>263.000000</td>\n",
       "      <td>263.000000</td>\n",
       "      <td>263.000000</td>\n",
       "      <td>263.000000</td>\n",
       "      <td>263.000000</td>\n",
       "      <td>263.000000</td>\n",
       "    </tr>\n",
       "    <tr>\n",
       "      <th>mean</th>\n",
       "      <td>9.885932</td>\n",
       "      <td>9.125475</td>\n",
       "      <td>8.745247</td>\n",
       "      <td>10.266160</td>\n",
       "      <td>18.250951</td>\n",
       "      <td>9.885932</td>\n",
       "      <td>9.885932</td>\n",
       "      <td>28.136882</td>\n",
       "      <td>17.110266</td>\n",
       "      <td>20.912548</td>\n",
       "      <td>...</td>\n",
       "      <td>4.182510</td>\n",
       "      <td>-4.562738</td>\n",
       "      <td>6.844106</td>\n",
       "      <td>-3.422053</td>\n",
       "      <td>9.125475</td>\n",
       "      <td>12.167300</td>\n",
       "      <td>-104.562738</td>\n",
       "      <td>-69.961977</td>\n",
       "      <td>-31.178707</td>\n",
       "      <td>13.688213</td>\n",
       "    </tr>\n",
       "    <tr>\n",
       "      <th>std</th>\n",
       "      <td>405.093037</td>\n",
       "      <td>431.923175</td>\n",
       "      <td>397.750766</td>\n",
       "      <td>399.915456</td>\n",
       "      <td>973.292977</td>\n",
       "      <td>480.673417</td>\n",
       "      <td>1064.403744</td>\n",
       "      <td>760.252537</td>\n",
       "      <td>453.792348</td>\n",
       "      <td>512.943091</td>\n",
       "      <td>...</td>\n",
       "      <td>322.119645</td>\n",
       "      <td>665.377482</td>\n",
       "      <td>397.548214</td>\n",
       "      <td>171.287448</td>\n",
       "      <td>782.777641</td>\n",
       "      <td>755.592545</td>\n",
       "      <td>4197.406744</td>\n",
       "      <td>4172.260586</td>\n",
       "      <td>1488.870075</td>\n",
       "      <td>1153.637993</td>\n",
       "    </tr>\n",
       "    <tr>\n",
       "      <th>min</th>\n",
       "      <td>-1400.000000</td>\n",
       "      <td>-1300.000000</td>\n",
       "      <td>-1500.000000</td>\n",
       "      <td>-1500.000000</td>\n",
       "      <td>-3700.000000</td>\n",
       "      <td>-1700.000000</td>\n",
       "      <td>-7700.000000</td>\n",
       "      <td>-3800.000000</td>\n",
       "      <td>-1900.000000</td>\n",
       "      <td>-2800.000000</td>\n",
       "      <td>...</td>\n",
       "      <td>-1700.000000</td>\n",
       "      <td>-3000.000000</td>\n",
       "      <td>-2300.000000</td>\n",
       "      <td>-700.000000</td>\n",
       "      <td>-3800.000000</td>\n",
       "      <td>-4000.000000</td>\n",
       "      <td>-25300.000000</td>\n",
       "      <td>-22700.000000</td>\n",
       "      <td>-7000.000000</td>\n",
       "      <td>-6000.000000</td>\n",
       "    </tr>\n",
       "    <tr>\n",
       "      <th>25%</th>\n",
       "      <td>-100.000000</td>\n",
       "      <td>-150.000000</td>\n",
       "      <td>-100.000000</td>\n",
       "      <td>-200.000000</td>\n",
       "      <td>-400.000000</td>\n",
       "      <td>-100.000000</td>\n",
       "      <td>-200.000000</td>\n",
       "      <td>-300.000000</td>\n",
       "      <td>-100.000000</td>\n",
       "      <td>-100.000000</td>\n",
       "      <td>...</td>\n",
       "      <td>-200.000000</td>\n",
       "      <td>-150.000000</td>\n",
       "      <td>-200.000000</td>\n",
       "      <td>-100.000000</td>\n",
       "      <td>-200.000000</td>\n",
       "      <td>-200.000000</td>\n",
       "      <td>-400.000000</td>\n",
       "      <td>-700.000000</td>\n",
       "      <td>-200.000000</td>\n",
       "      <td>-500.000000</td>\n",
       "    </tr>\n",
       "    <tr>\n",
       "      <th>50%</th>\n",
       "      <td>0.000000</td>\n",
       "      <td>0.000000</td>\n",
       "      <td>0.000000</td>\n",
       "      <td>0.000000</td>\n",
       "      <td>0.000000</td>\n",
       "      <td>0.000000</td>\n",
       "      <td>0.000000</td>\n",
       "      <td>0.000000</td>\n",
       "      <td>0.000000</td>\n",
       "      <td>0.000000</td>\n",
       "      <td>...</td>\n",
       "      <td>0.000000</td>\n",
       "      <td>0.000000</td>\n",
       "      <td>0.000000</td>\n",
       "      <td>0.000000</td>\n",
       "      <td>0.000000</td>\n",
       "      <td>0.000000</td>\n",
       "      <td>0.000000</td>\n",
       "      <td>0.000000</td>\n",
       "      <td>0.000000</td>\n",
       "      <td>0.000000</td>\n",
       "    </tr>\n",
       "    <tr>\n",
       "      <th>75%</th>\n",
       "      <td>100.000000</td>\n",
       "      <td>100.000000</td>\n",
       "      <td>100.000000</td>\n",
       "      <td>150.000000</td>\n",
       "      <td>450.000000</td>\n",
       "      <td>200.000000</td>\n",
       "      <td>300.000000</td>\n",
       "      <td>300.000000</td>\n",
       "      <td>100.000000</td>\n",
       "      <td>200.000000</td>\n",
       "      <td>...</td>\n",
       "      <td>200.000000</td>\n",
       "      <td>200.000000</td>\n",
       "      <td>200.000000</td>\n",
       "      <td>100.000000</td>\n",
       "      <td>300.000000</td>\n",
       "      <td>300.000000</td>\n",
       "      <td>450.000000</td>\n",
       "      <td>700.000000</td>\n",
       "      <td>200.000000</td>\n",
       "      <td>500.000000</td>\n",
       "    </tr>\n",
       "    <tr>\n",
       "      <th>max</th>\n",
       "      <td>1500.000000</td>\n",
       "      <td>2000.000000</td>\n",
       "      <td>1400.000000</td>\n",
       "      <td>1700.000000</td>\n",
       "      <td>2900.000000</td>\n",
       "      <td>2100.000000</td>\n",
       "      <td>5200.000000</td>\n",
       "      <td>4000.000000</td>\n",
       "      <td>1900.000000</td>\n",
       "      <td>2100.000000</td>\n",
       "      <td>...</td>\n",
       "      <td>1300.000000</td>\n",
       "      <td>3100.000000</td>\n",
       "      <td>1500.000000</td>\n",
       "      <td>600.000000</td>\n",
       "      <td>3100.000000</td>\n",
       "      <td>3000.000000</td>\n",
       "      <td>26700.000000</td>\n",
       "      <td>24000.000000</td>\n",
       "      <td>9900.000000</td>\n",
       "      <td>3700.000000</td>\n",
       "    </tr>\n",
       "  </tbody>\n",
       "</table>\n",
       "<p>8 rows × 61 columns</p>\n",
       "</div>"
      ],
      "text/plain": [
       "RegionName        80021        80022        80030        80031        80102  \\\n",
       "count        263.000000   263.000000   263.000000   263.000000   263.000000   \n",
       "mean           9.885932     9.125475     8.745247    10.266160    18.250951   \n",
       "std          405.093037   431.923175   397.750766   399.915456   973.292977   \n",
       "min        -1400.000000 -1300.000000 -1500.000000 -1500.000000 -3700.000000   \n",
       "25%         -100.000000  -150.000000  -100.000000  -200.000000  -400.000000   \n",
       "50%            0.000000     0.000000     0.000000     0.000000     0.000000   \n",
       "75%          100.000000   100.000000   100.000000   150.000000   450.000000   \n",
       "max         1500.000000  2000.000000  1400.000000  1700.000000  2900.000000   \n",
       "\n",
       "RegionName        80123        80136        80203        80204        80205  \\\n",
       "count        263.000000   263.000000   263.000000   263.000000   263.000000   \n",
       "mean           9.885932     9.885932    28.136882    17.110266    20.912548   \n",
       "std          480.673417  1064.403744   760.252537   453.792348   512.943091   \n",
       "min        -1700.000000 -7700.000000 -3800.000000 -1900.000000 -2800.000000   \n",
       "25%         -100.000000  -200.000000  -300.000000  -100.000000  -100.000000   \n",
       "50%            0.000000     0.000000     0.000000     0.000000     0.000000   \n",
       "75%          200.000000   300.000000   300.000000   100.000000   200.000000   \n",
       "max         2100.000000  5200.000000  4000.000000  1900.000000  2100.000000   \n",
       "\n",
       "RegionName  ...        80816        80827        80863       81101  \\\n",
       "count       ...   263.000000   263.000000   263.000000  263.000000   \n",
       "mean        ...     4.182510    -4.562738     6.844106   -3.422053   \n",
       "std         ...   322.119645   665.377482   397.548214  171.287448   \n",
       "min         ... -1700.000000 -3000.000000 -2300.000000 -700.000000   \n",
       "25%         ...  -200.000000  -150.000000  -200.000000 -100.000000   \n",
       "50%         ...     0.000000     0.000000     0.000000    0.000000   \n",
       "75%         ...   200.000000   200.000000   200.000000  100.000000   \n",
       "max         ...  1300.000000  3100.000000  1500.000000  600.000000   \n",
       "\n",
       "RegionName        81201        81211         81224         81225        81230  \\\n",
       "count        263.000000   263.000000    263.000000    263.000000   263.000000   \n",
       "mean           9.125475    12.167300   -104.562738    -69.961977   -31.178707   \n",
       "std          782.777641   755.592545   4197.406744   4172.260586  1488.870075   \n",
       "min        -3800.000000 -4000.000000 -25300.000000 -22700.000000 -7000.000000   \n",
       "25%         -200.000000  -200.000000   -400.000000   -700.000000  -200.000000   \n",
       "50%            0.000000     0.000000      0.000000      0.000000     0.000000   \n",
       "75%          300.000000   300.000000    450.000000    700.000000   200.000000   \n",
       "max         3100.000000  3000.000000  26700.000000  24000.000000  9900.000000   \n",
       "\n",
       "RegionName        81236  \n",
       "count        263.000000  \n",
       "mean          13.688213  \n",
       "std         1153.637993  \n",
       "min        -6000.000000  \n",
       "25%         -500.000000  \n",
       "50%            0.000000  \n",
       "75%          500.000000  \n",
       "max         3700.000000  \n",
       "\n",
       "[8 rows x 61 columns]"
      ]
     },
     "execution_count": 15,
     "metadata": {},
     "output_type": "execute_result"
    }
   ],
   "source": [
    "# output second order diffed df for reference\n",
    "diffed_df.describe()"
   ]
  },
  {
   "cell_type": "markdown",
   "metadata": {},
   "source": [
    "Looking at our persistance models performance, since we have differenced our data twice it is difficult to understand, but for the most part it seems like for the majority of models our persistance model works decently. Especially since the standard deviation for the majority of our series are within the hundreds to thousands range."
   ]
  },
  {
   "cell_type": "markdown",
   "metadata": {},
   "source": [
    "When we move onto SARIMA/ARIMA modeling we'll have to remember to use a second order difference, and look into finding the optimal number of AR/MA for each individual series."
   ]
  }
 ],
 "metadata": {
  "kernelspec": {
   "display_name": "Python 3",
   "language": "python",
   "name": "python3"
  },
  "language_info": {
   "codemirror_mode": {
    "name": "ipython",
    "version": 3
   },
   "file_extension": ".py",
   "mimetype": "text/x-python",
   "name": "python",
   "nbconvert_exporter": "python",
   "pygments_lexer": "ipython3",
   "version": "3.8.5"
  },
  "toc": {
   "base_numbering": 1,
   "nav_menu": {},
   "number_sections": true,
   "sideBar": true,
   "skip_h1_title": false,
   "title_cell": "Table of Contents",
   "title_sidebar": "Contents",
   "toc_cell": false,
   "toc_position": {},
   "toc_section_display": true,
   "toc_window_display": false
  }
 },
 "nbformat": 4,
 "nbformat_minor": 4
}
